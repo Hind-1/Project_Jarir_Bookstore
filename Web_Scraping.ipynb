{
 "cells": [
  {
   "cell_type": "markdown",
   "id": "624306bb",
   "metadata": {},
   "source": [
    "## Web Scraping"
   ]
  },
  {
   "cell_type": "code",
   "execution_count": 426,
   "id": "9bf1cb5c",
   "metadata": {},
   "outputs": [],
   "source": [
    "from selenium import webdriver as web\n",
    "import time, os\n",
    "# from selenium.webdriver.common.keys import Keys\n",
    "\n",
    "from bs4 import BeautifulSoup\n",
    "import requests\n",
    "#  webdriver is what is driving these actions.\n",
    "# It's what'is links up with the browser.\n",
    "# It's what's able to perform the action"
   ]
  },
  {
   "cell_type": "code",
   "execution_count": 451,
   "id": "64569bf9",
   "metadata": {},
   "outputs": [],
   "source": [
    "PATH='/Applications/chromedriver'\n",
    "os.environ[\"webdriver.chrome.driver\"] = PATH\n",
    "\n",
    "driver=web.Chrome(PATH)\n",
    "\n",
    "# The web browser i want to use is chrome and the web driver for this browser is locted at PATH.\n"
   ]
  },
  {
   "cell_type": "code",
   "execution_count": 452,
   "id": "53d4a670",
   "metadata": {},
   "outputs": [],
   "source": [
    "driver.get('https://www.jarir.com')"
   ]
  },
  {
   "cell_type": "markdown",
   "id": "cfac32a0",
   "metadata": {},
   "source": [
    "Now we parse this with `BeautifulSoup` and the bookstore information appears!"
   ]
  },
  {
   "cell_type": "code",
   "execution_count": 453,
   "id": "28c5720e",
   "metadata": {},
   "outputs": [],
   "source": [
    "\n",
    "driver.find_element_by_xpath('/html/body/div[3]/div/div[1]/div/div/div[3]/ul/div/div/div[5]/div/li/a/div/img').click()"
   ]
  },
  {
   "cell_type": "code",
   "execution_count": 454,
   "id": "13adb068",
   "metadata": {},
   "outputs": [],
   "source": [
    "#  This line will view the laptops page.\n",
    "\n",
    "driver.find_element_by_xpath('//*[@id=\"amshopby-page-container\"]/div[7]/ul/li[1]/a/div/img').click()"
   ]
  },
  {
   "cell_type": "markdown",
   "id": "bd11bd1f",
   "metadata": {},
   "source": [
    "Now we want to collect all the link of the product that show in page."
   ]
  },
  {
   "cell_type": "code",
   "execution_count": 455,
   "id": "b50f367b",
   "metadata": {},
   "outputs": [],
   "source": [
    "from selenium.webdriver.common.action_chains import ActionChains\n"
   ]
  },
  {
   "cell_type": "code",
   "execution_count": 475,
   "id": "8a54ac9c",
   "metadata": {},
   "outputs": [
    {
     "ename": "NoSuchWindowException",
     "evalue": "Message: no such window: target window already closed\nfrom unknown error: web view not found\n  (Session info: chrome=94.0.4606.71)\n",
     "output_type": "error",
     "traceback": [
      "\u001b[0;31m---------------------------------------------------------------------------\u001b[0m",
      "\u001b[0;31mNoSuchWindowException\u001b[0m                     Traceback (most recent call last)",
      "\u001b[0;32m<ipython-input-475-3efa72606aeb>\u001b[0m in \u001b[0;36m<module>\u001b[0;34m\u001b[0m\n\u001b[1;32m      4\u001b[0m \u001b[0mi\u001b[0m\u001b[0;34m=\u001b[0m\u001b[0;36m0\u001b[0m\u001b[0;34m\u001b[0m\u001b[0;34m\u001b[0m\u001b[0m\n\u001b[1;32m      5\u001b[0m \u001b[0;32mwhile\u001b[0m \u001b[0mi\u001b[0m\u001b[0;34m<\u001b[0m\u001b[0;36m1000\u001b[0m\u001b[0;34m:\u001b[0m\u001b[0;34m\u001b[0m\u001b[0;34m\u001b[0m\u001b[0m\n\u001b[0;32m----> 6\u001b[0;31m     \u001b[0mproductInfolist\u001b[0m\u001b[0;34m=\u001b[0m\u001b[0mdriver\u001b[0m\u001b[0;34m.\u001b[0m\u001b[0mfind_elements_by_class_name\u001b[0m\u001b[0;34m(\u001b[0m\u001b[0;34m'item'\u001b[0m\u001b[0;34m)\u001b[0m\u001b[0;34m\u001b[0m\u001b[0;34m\u001b[0m\u001b[0m\n\u001b[0m\u001b[1;32m      7\u001b[0m     \u001b[0;32mfor\u001b[0m \u001b[0mp\u001b[0m \u001b[0;32min\u001b[0m \u001b[0mproductInfolist\u001b[0m\u001b[0;34m:\u001b[0m\u001b[0;34m\u001b[0m\u001b[0;34m\u001b[0m\u001b[0m\n\u001b[1;32m      8\u001b[0m         \u001b[0mp1\u001b[0m\u001b[0;34m=\u001b[0m\u001b[0mp\u001b[0m\u001b[0;34m.\u001b[0m\u001b[0mfind_element_by_tag_name\u001b[0m\u001b[0;34m(\u001b[0m\u001b[0;34m'a'\u001b[0m\u001b[0;34m)\u001b[0m\u001b[0;34m\u001b[0m\u001b[0;34m\u001b[0m\u001b[0m\n",
      "\u001b[0;32m/opt/anaconda3/lib/python3.8/site-packages/selenium/webdriver/remote/webdriver.py\u001b[0m in \u001b[0;36mfind_elements_by_class_name\u001b[0;34m(self, name)\u001b[0m\n\u001b[1;32m    578\u001b[0m             \u001b[0melements\u001b[0m \u001b[0;34m=\u001b[0m \u001b[0mdriver\u001b[0m\u001b[0;34m.\u001b[0m\u001b[0mfind_elements_by_class_name\u001b[0m\u001b[0;34m(\u001b[0m\u001b[0;34m'foo'\u001b[0m\u001b[0;34m)\u001b[0m\u001b[0;34m\u001b[0m\u001b[0;34m\u001b[0m\u001b[0m\n\u001b[1;32m    579\u001b[0m         \"\"\"\n\u001b[0;32m--> 580\u001b[0;31m         \u001b[0;32mreturn\u001b[0m \u001b[0mself\u001b[0m\u001b[0;34m.\u001b[0m\u001b[0mfind_elements\u001b[0m\u001b[0;34m(\u001b[0m\u001b[0mby\u001b[0m\u001b[0;34m=\u001b[0m\u001b[0mBy\u001b[0m\u001b[0;34m.\u001b[0m\u001b[0mCLASS_NAME\u001b[0m\u001b[0;34m,\u001b[0m \u001b[0mvalue\u001b[0m\u001b[0;34m=\u001b[0m\u001b[0mname\u001b[0m\u001b[0;34m)\u001b[0m\u001b[0;34m\u001b[0m\u001b[0;34m\u001b[0m\u001b[0m\n\u001b[0m\u001b[1;32m    581\u001b[0m \u001b[0;34m\u001b[0m\u001b[0m\n\u001b[1;32m    582\u001b[0m     \u001b[0;32mdef\u001b[0m \u001b[0mfind_element_by_css_selector\u001b[0m\u001b[0;34m(\u001b[0m\u001b[0mself\u001b[0m\u001b[0;34m,\u001b[0m \u001b[0mcss_selector\u001b[0m\u001b[0;34m)\u001b[0m\u001b[0;34m:\u001b[0m\u001b[0;34m\u001b[0m\u001b[0;34m\u001b[0m\u001b[0m\n",
      "\u001b[0;32m/opt/anaconda3/lib/python3.8/site-packages/selenium/webdriver/remote/webdriver.py\u001b[0m in \u001b[0;36mfind_elements\u001b[0;34m(self, by, value)\u001b[0m\n\u001b[1;32m   1003\u001b[0m         \u001b[0;31m# Return empty list if driver returns null\u001b[0m\u001b[0;34m\u001b[0m\u001b[0;34m\u001b[0m\u001b[0;34m\u001b[0m\u001b[0m\n\u001b[1;32m   1004\u001b[0m         \u001b[0;31m# See https://github.com/SeleniumHQ/selenium/issues/4555\u001b[0m\u001b[0;34m\u001b[0m\u001b[0;34m\u001b[0m\u001b[0;34m\u001b[0m\u001b[0m\n\u001b[0;32m-> 1005\u001b[0;31m         return self.execute(Command.FIND_ELEMENTS, {\n\u001b[0m\u001b[1;32m   1006\u001b[0m             \u001b[0;34m'using'\u001b[0m\u001b[0;34m:\u001b[0m \u001b[0mby\u001b[0m\u001b[0;34m,\u001b[0m\u001b[0;34m\u001b[0m\u001b[0;34m\u001b[0m\u001b[0m\n\u001b[1;32m   1007\u001b[0m             'value': value})['value'] or []\n",
      "\u001b[0;32m/opt/anaconda3/lib/python3.8/site-packages/selenium/webdriver/remote/webdriver.py\u001b[0m in \u001b[0;36mexecute\u001b[0;34m(self, driver_command, params)\u001b[0m\n\u001b[1;32m    319\u001b[0m         \u001b[0mresponse\u001b[0m \u001b[0;34m=\u001b[0m \u001b[0mself\u001b[0m\u001b[0;34m.\u001b[0m\u001b[0mcommand_executor\u001b[0m\u001b[0;34m.\u001b[0m\u001b[0mexecute\u001b[0m\u001b[0;34m(\u001b[0m\u001b[0mdriver_command\u001b[0m\u001b[0;34m,\u001b[0m \u001b[0mparams\u001b[0m\u001b[0;34m)\u001b[0m\u001b[0;34m\u001b[0m\u001b[0;34m\u001b[0m\u001b[0m\n\u001b[1;32m    320\u001b[0m         \u001b[0;32mif\u001b[0m \u001b[0mresponse\u001b[0m\u001b[0;34m:\u001b[0m\u001b[0;34m\u001b[0m\u001b[0;34m\u001b[0m\u001b[0m\n\u001b[0;32m--> 321\u001b[0;31m             \u001b[0mself\u001b[0m\u001b[0;34m.\u001b[0m\u001b[0merror_handler\u001b[0m\u001b[0;34m.\u001b[0m\u001b[0mcheck_response\u001b[0m\u001b[0;34m(\u001b[0m\u001b[0mresponse\u001b[0m\u001b[0;34m)\u001b[0m\u001b[0;34m\u001b[0m\u001b[0;34m\u001b[0m\u001b[0m\n\u001b[0m\u001b[1;32m    322\u001b[0m             response['value'] = self._unwrap_value(\n\u001b[1;32m    323\u001b[0m                 response.get('value', None))\n",
      "\u001b[0;32m/opt/anaconda3/lib/python3.8/site-packages/selenium/webdriver/remote/errorhandler.py\u001b[0m in \u001b[0;36mcheck_response\u001b[0;34m(self, response)\u001b[0m\n\u001b[1;32m    240\u001b[0m                 \u001b[0malert_text\u001b[0m \u001b[0;34m=\u001b[0m \u001b[0mvalue\u001b[0m\u001b[0;34m[\u001b[0m\u001b[0;34m'alert'\u001b[0m\u001b[0;34m]\u001b[0m\u001b[0;34m.\u001b[0m\u001b[0mget\u001b[0m\u001b[0;34m(\u001b[0m\u001b[0;34m'text'\u001b[0m\u001b[0;34m)\u001b[0m\u001b[0;34m\u001b[0m\u001b[0;34m\u001b[0m\u001b[0m\n\u001b[1;32m    241\u001b[0m             \u001b[0;32mraise\u001b[0m \u001b[0mexception_class\u001b[0m\u001b[0;34m(\u001b[0m\u001b[0mmessage\u001b[0m\u001b[0;34m,\u001b[0m \u001b[0mscreen\u001b[0m\u001b[0;34m,\u001b[0m \u001b[0mstacktrace\u001b[0m\u001b[0;34m,\u001b[0m \u001b[0malert_text\u001b[0m\u001b[0;34m)\u001b[0m\u001b[0;34m\u001b[0m\u001b[0;34m\u001b[0m\u001b[0m\n\u001b[0;32m--> 242\u001b[0;31m         \u001b[0;32mraise\u001b[0m \u001b[0mexception_class\u001b[0m\u001b[0;34m(\u001b[0m\u001b[0mmessage\u001b[0m\u001b[0;34m,\u001b[0m \u001b[0mscreen\u001b[0m\u001b[0;34m,\u001b[0m \u001b[0mstacktrace\u001b[0m\u001b[0;34m)\u001b[0m\u001b[0;34m\u001b[0m\u001b[0;34m\u001b[0m\u001b[0m\n\u001b[0m\u001b[1;32m    243\u001b[0m \u001b[0;34m\u001b[0m\u001b[0m\n\u001b[1;32m    244\u001b[0m     \u001b[0;32mdef\u001b[0m \u001b[0m_value_or_default\u001b[0m\u001b[0;34m(\u001b[0m\u001b[0mself\u001b[0m\u001b[0;34m,\u001b[0m \u001b[0mobj\u001b[0m\u001b[0;34m,\u001b[0m \u001b[0mkey\u001b[0m\u001b[0;34m,\u001b[0m \u001b[0mdefault\u001b[0m\u001b[0;34m)\u001b[0m\u001b[0;34m:\u001b[0m\u001b[0;34m\u001b[0m\u001b[0;34m\u001b[0m\u001b[0m\n",
      "\u001b[0;31mNoSuchWindowException\u001b[0m: Message: no such window: target window already closed\nfrom unknown error: web view not found\n  (Session info: chrome=94.0.4606.71)\n"
     ]
    }
   ],
   "source": [
    "listOflinks=[]\n",
    " \n",
    "\n",
    "i=0\n",
    "while i<1000:\n",
    "    productInfolist=driver.find_elements_by_class_name('item')\n",
    "    for p in productInfolist:\n",
    "        p1=p.find_element_by_tag_name('a')\n",
    "        p2=p1.get_property('href')\n",
    "        listOflinks.append(p2)\n",
    "        i+=1\n",
    "        try:\n",
    "            button = driver.find_element_by_xpath(\"/html/body/div[3]/div/div[1]/div[2]/div[2]/div[2]/div[4]/div[4]\")\n",
    "#             button.click()\n",
    "            ActionChains(driver).move_to_element(button).click(button).perform()    \n",
    "        except:\n",
    "            pass"
   ]
  },
  {
   "cell_type": "code",
   "execution_count": 548,
   "id": "f10d32ee",
   "metadata": {},
   "outputs": [
    {
     "data": {
      "text/plain": [
       "0"
      ]
     },
     "execution_count": 548,
     "metadata": {},
     "output_type": "execute_result"
    }
   ],
   "source": [
    "#  That show the number of all product\n",
    "len(listOflinks)"
   ]
  },
  {
   "cell_type": "code",
   "execution_count": 549,
   "id": "516c2ae6",
   "metadata": {
    "scrolled": true
   },
   "outputs": [
    {
     "name": "stderr",
     "output_type": "stream",
     "text": [
      "\n",
      "\n",
      "====== WebDriver manager ======\n",
      "Current google-chrome version is 94.0.4606\n",
      "Get LATEST driver version for 94.0.4606\n",
      "Get LATEST driver version for 94.0.4606\n",
      "Trying to download new driver from https://chromedriver.storage.googleapis.com/94.0.4606.61/chromedriver_mac64.zip\n",
      "Driver has been saved in cache [/Users/hindsalem/.wdm/drivers/chromedriver/mac64/94.0.4606.61]\n"
     ]
    }
   ],
   "source": [
    "\n",
    "\n",
    "driver = webdriver.Chrome(ChromeDriverManager().install())\n",
    "tempj={ 'Company':[],\n",
    "       'Product':[],\n",
    "       'TypeName':[],\n",
    "       'Inches':[],\n",
    "       'ScreenResolution':[],\n",
    "       'Gpu':[],\n",
    "       'Ram':[],\n",
    "       'Memory':[],\n",
    "       'OpSys':[],\n",
    "       'Weight':[],\n",
    "       'Price':[],\n",
    "}\n",
    "for link in range(len(listOflinks)):\n",
    "    driver.get(listOflinks[link])\n",
    "    english_page = driver.find_element_by_xpath('//*[@id=\"page-header\"]/div[1]/div/ul/li[8]/a/div[2]')\n",
    "    english_page.click()\n",
    "    Company=driver.find_element_by_xpath('//*[@id=\"card-specifications\"]/div/table/tbody/tr[9]/td').get_attribute('textContent').strip()\n",
    "    Product=driver.find_element_by_xpath('//*[@id=\"card-specifications\"]/div/table/tbody/tr[9]/td').get_attribute('textContent').strip()\n",
    "    TypeName=driver.find_element_by_xpath('//*[@id=\"card-specifications\"]/div/table/tbody/tr[8]/td').get_attribute('textContent').strip()\n",
    "    Inches=driver.find_element_by_xpath('//*[@id=\"card-specifications\"]/div/table/tbody/tr[6]/td').get_attribute('textContent').strip().replace(\"\\\"\", \"\")\n",
    "    ScreenResolution=driver.find_element_by_xpath('//*[@id=\"card-specifications\"]/div/table/tbody/tr[19]/td').get_attribute('textContent').strip()\n",
    "    Gpu=driver.find_element_by_xpath('//*[@id=\"card-specifications\"]/div/table/tbody/tr[4]/td').get_attribute('textContent').strip()\n",
    "    Ram=driver.find_element_by_xpath('//*[@id=\"card-specifications\"]/div/table/tbody/tr[15]/td').get_attribute('textContent').strip()\n",
    "    Memory=driver.find_element_by_xpath('//*[@id=\"card-specifications\"]/div/table/tbody/tr[14]/td').get_attribute('textContent').strip()\n",
    "    OpSys=driver.find_element_by_xpath('//*[@id=\"card-specifications\"]/div/table/tbody/tr[7]/td').get_attribute('textContent').strip()\n",
    "    Price=driver.find_element_by_class_name('price').get_attribute('textContent').strip().replace(\"SR\", \"\")\n",
    "    Company1=Company[:7]\n",
    "    Company2=Company[:6]\n",
    "    Company3=Company[:4]\n",
    "    Company4=Company[:8]\n",
    "    if Company1=='(Apple)'or Company2=='(Asus)':\n",
    "        Weight=driver.find_element_by_xpath('//*[@id=\"card-specifications\"]/div/table/tbody/tr[24]/td').get_attribute('textContent').strip()\n",
    "    elif Company4 == '(Huawei)':\n",
    "        Weight=driver.find_element_by_xpath('//*[@id=\"card-specifications\"]/div/table/tbody/tr[25]/th').get_attribute('textContent').strip()\n",
    "    elif Company3 == '(HP)':\n",
    "        Weight=driver.find_element_by_xpath('//*[@id=\"card-specifications\"]/div/table/tbody/tr[22]/td').get_attribute('textContent').strip()\n",
    "    elif Company2=='(Dell)':\n",
    "        Weight=driver.find_element_by_xpath('//*[@id=\"card-specifications\"]/div/table/tbody/tr[25]/th').get_attribute('textContent').strip()\n",
    "\n",
    "    else:\n",
    "        Weight=None\n",
    "    tempj['Company'].append(Company)\n",
    "    tempj['Product'].append(Product)\n",
    "    tempj['TypeName'].append(TypeName)\n",
    "    tempj['Inches'].append(Inches)\n",
    "    tempj['ScreenResolution'].append(ScreenResolution)\n",
    "    tempj['Gpu'].append(Gpu)\n",
    "    tempj['Ram'].append(Ram)\n",
    "    tempj['Memory'].append(Memory)\n",
    "    tempj['OpSys'].append(OpSys)\n",
    "    tempj['Weight'].append(Weight)\n",
    "    tempj['Price'].append(Price)\n"
   ]
  },
  {
   "cell_type": "code",
   "execution_count": 473,
   "id": "cca26873",
   "metadata": {},
   "outputs": [],
   "source": [
    "import pandas as pd \n"
   ]
  },
  {
   "cell_type": "markdown",
   "id": "1e40eccb",
   "metadata": {},
   "source": [
    "Saving processed data to csv¶\n"
   ]
  },
  {
   "cell_type": "code",
   "execution_count": 480,
   "id": "2f88ee46",
   "metadata": {},
   "outputs": [],
   "source": [
    "df=pd.DataFrame(tempj)\n",
    "df.to_csv('tempj.csv',encoding='utf-8',index=False)"
   ]
  }
 ],
 "metadata": {
  "kernelspec": {
   "display_name": "Python 3",
   "language": "python",
   "name": "python3"
  },
  "language_info": {
   "codemirror_mode": {
    "name": "ipython",
    "version": 3
   },
   "file_extension": ".py",
   "mimetype": "text/x-python",
   "name": "python",
   "nbconvert_exporter": "python",
   "pygments_lexer": "ipython3",
   "version": "3.8.8"
  }
 },
 "nbformat": 4,
 "nbformat_minor": 5
}
