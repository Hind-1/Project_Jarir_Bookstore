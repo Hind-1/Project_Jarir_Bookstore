{
 "cells": [
  {
   "cell_type": "markdown",
   "id": "911047e5",
   "metadata": {},
   "source": [
    "## Data Exploration\n"
   ]
  },
  {
   "cell_type": "code",
   "execution_count": 261,
   "id": "c8eb2473",
   "metadata": {},
   "outputs": [],
   "source": [
    "import pandas as pd\n",
    "df=pd.read_csv('/Users/hindsalem/Desktop/tempjjh/Sheet 2-Table 1.csv')"
   ]
  },
  {
   "cell_type": "code",
   "execution_count": null,
   "id": "4909220c",
   "metadata": {},
   "outputs": [],
   "source": []
  },
  {
   "cell_type": "code",
   "execution_count": 262,
   "id": "72ff7e46",
   "metadata": {
    "scrolled": true
   },
   "outputs": [
    {
     "data": {
      "text/html": [
       "<div>\n",
       "<style scoped>\n",
       "    .dataframe tbody tr th:only-of-type {\n",
       "        vertical-align: middle;\n",
       "    }\n",
       "\n",
       "    .dataframe tbody tr th {\n",
       "        vertical-align: top;\n",
       "    }\n",
       "\n",
       "    .dataframe thead th {\n",
       "        text-align: right;\n",
       "    }\n",
       "</style>\n",
       "<table border=\"1\" class=\"dataframe\">\n",
       "  <thead>\n",
       "    <tr style=\"text-align: right;\">\n",
       "      <th></th>\n",
       "      <th>Unnamed: 0</th>\n",
       "      <th>Company</th>\n",
       "      <th>TypeName</th>\n",
       "      <th>Inches</th>\n",
       "      <th>ScreenResolution</th>\n",
       "      <th>Cpu</th>\n",
       "      <th>Ram</th>\n",
       "      <th>Memory</th>\n",
       "      <th>Gpu</th>\n",
       "      <th>OpSys</th>\n",
       "      <th>Weight</th>\n",
       "      <th>Price</th>\n",
       "    </tr>\n",
       "  </thead>\n",
       "  <tbody>\n",
       "    <tr>\n",
       "      <th>0</th>\n",
       "      <td>0</td>\n",
       "      <td>Apple</td>\n",
       "      <td>Ultrabook</td>\n",
       "      <td>13.3</td>\n",
       "      <td>IPS Panel Retina Display 2560x1600</td>\n",
       "      <td>Intel Core i5 2.3GHz</td>\n",
       "      <td>8GB</td>\n",
       "      <td>128GB SSD</td>\n",
       "      <td>Intel Iris Plus Graphics 640</td>\n",
       "      <td>macOS</td>\n",
       "      <td>1.37kg</td>\n",
       "      <td>3568.934</td>\n",
       "    </tr>\n",
       "    <tr>\n",
       "      <th>1</th>\n",
       "      <td>1</td>\n",
       "      <td>Apple</td>\n",
       "      <td>Ultrabook</td>\n",
       "      <td>13.3</td>\n",
       "      <td>1440x900</td>\n",
       "      <td>Intel Core i5 1.8GHz</td>\n",
       "      <td>8GB</td>\n",
       "      <td>128GB Flash Storage</td>\n",
       "      <td>Intel HD Graphics 6000</td>\n",
       "      <td>macOS</td>\n",
       "      <td>1.34kg</td>\n",
       "      <td>2394.776</td>\n",
       "    </tr>\n",
       "    <tr>\n",
       "      <th>2</th>\n",
       "      <td>2</td>\n",
       "      <td>HP</td>\n",
       "      <td>Notebook</td>\n",
       "      <td>15.6</td>\n",
       "      <td>Full HD 1920x1080</td>\n",
       "      <td>Intel Core i5 7200U 2.5GHz</td>\n",
       "      <td>8GB</td>\n",
       "      <td>256GB SSD</td>\n",
       "      <td>Intel HD Graphics 620</td>\n",
       "      <td>No OS</td>\n",
       "      <td>1.86kg</td>\n",
       "      <td>1531.800</td>\n",
       "    </tr>\n",
       "    <tr>\n",
       "      <th>3</th>\n",
       "      <td>3</td>\n",
       "      <td>Apple</td>\n",
       "      <td>Ultrabook</td>\n",
       "      <td>15.4</td>\n",
       "      <td>IPS Panel Retina Display 2880x1800</td>\n",
       "      <td>Intel Core i7 2.7GHz</td>\n",
       "      <td>16GB</td>\n",
       "      <td>512GB SSD</td>\n",
       "      <td>AMD Radeon Pro 455</td>\n",
       "      <td>macOS</td>\n",
       "      <td>1.83kg</td>\n",
       "      <td>6759.767</td>\n",
       "    </tr>\n",
       "    <tr>\n",
       "      <th>4</th>\n",
       "      <td>4</td>\n",
       "      <td>Apple</td>\n",
       "      <td>Ultrabook</td>\n",
       "      <td>13.3</td>\n",
       "      <td>IPS Panel Retina Display 2560x1600</td>\n",
       "      <td>Intel Core i5 3.1GHz</td>\n",
       "      <td>8GB</td>\n",
       "      <td>256GB SSD</td>\n",
       "      <td>Intel Iris Plus Graphics 650</td>\n",
       "      <td>macOS</td>\n",
       "      <td>1.37kg</td>\n",
       "      <td>4804.790</td>\n",
       "    </tr>\n",
       "    <tr>\n",
       "      <th>...</th>\n",
       "      <td>...</td>\n",
       "      <td>...</td>\n",
       "      <td>...</td>\n",
       "      <td>...</td>\n",
       "      <td>...</td>\n",
       "      <td>...</td>\n",
       "      <td>...</td>\n",
       "      <td>...</td>\n",
       "      <td>...</td>\n",
       "      <td>...</td>\n",
       "      <td>...</td>\n",
       "      <td>...</td>\n",
       "    </tr>\n",
       "    <tr>\n",
       "      <th>1003</th>\n",
       "      <td>1003</td>\n",
       "      <td>HP</td>\n",
       "      <td>Notebook</td>\n",
       "      <td>14.0</td>\n",
       "      <td>1366x768</td>\n",
       "      <td>Intel Core i5 7200U 2.5GHz</td>\n",
       "      <td>4GB</td>\n",
       "      <td>500GB HDD</td>\n",
       "      <td>Intel HD Graphics 620</td>\n",
       "      <td>Windows 10</td>\n",
       "      <td>1.64kg</td>\n",
       "      <td>2075.256</td>\n",
       "    </tr>\n",
       "    <tr>\n",
       "      <th>1004</th>\n",
       "      <td>1004</td>\n",
       "      <td>Toshiba</td>\n",
       "      <td>Notebook</td>\n",
       "      <td>13.3</td>\n",
       "      <td>Full HD 1920x1080</td>\n",
       "      <td>Intel Core i5 6200U 2.3GHz</td>\n",
       "      <td>4GB</td>\n",
       "      <td>128GB SSD</td>\n",
       "      <td>Intel HD Graphics 520</td>\n",
       "      <td>Windows 10</td>\n",
       "      <td>1.2kg</td>\n",
       "      <td>3183.480</td>\n",
       "    </tr>\n",
       "    <tr>\n",
       "      <th>1005</th>\n",
       "      <td>1005</td>\n",
       "      <td>HP</td>\n",
       "      <td>Notebook</td>\n",
       "      <td>14.0</td>\n",
       "      <td>1366x768</td>\n",
       "      <td>Intel Core i5 6300U 2.4GHz</td>\n",
       "      <td>4GB</td>\n",
       "      <td>256GB SSD</td>\n",
       "      <td>Intel HD Graphics 520</td>\n",
       "      <td>Windows 10</td>\n",
       "      <td>1.48kg</td>\n",
       "      <td>2930.373</td>\n",
       "    </tr>\n",
       "    <tr>\n",
       "      <th>1006</th>\n",
       "      <td>1006</td>\n",
       "      <td>HP</td>\n",
       "      <td>Notebook</td>\n",
       "      <td>14.0</td>\n",
       "      <td>Full HD 1920x1080</td>\n",
       "      <td>Intel Core i5 7200U 2.5GHz</td>\n",
       "      <td>4GB</td>\n",
       "      <td>256GB SSD</td>\n",
       "      <td>Intel HD Graphics 620</td>\n",
       "      <td>Windows 10</td>\n",
       "      <td>1.95kg</td>\n",
       "      <td>3210.120</td>\n",
       "    </tr>\n",
       "    <tr>\n",
       "      <th>1007</th>\n",
       "      <td>1007</td>\n",
       "      <td>HP</td>\n",
       "      <td>Ultrabook</td>\n",
       "      <td>14.0</td>\n",
       "      <td>Full HD 1920x1080</td>\n",
       "      <td>Intel Core i7 6600U 2.6GHz</td>\n",
       "      <td>8GB</td>\n",
       "      <td>256GB SSD</td>\n",
       "      <td>Intel HD Graphics 520</td>\n",
       "      <td>Windows 7</td>\n",
       "      <td>1.43kg</td>\n",
       "      <td>3860.136</td>\n",
       "    </tr>\n",
       "  </tbody>\n",
       "</table>\n",
       "<p>1008 rows × 12 columns</p>\n",
       "</div>"
      ],
      "text/plain": [
       "      Unnamed: 0  Company   TypeName  Inches  \\\n",
       "0              0    Apple  Ultrabook    13.3   \n",
       "1              1    Apple  Ultrabook    13.3   \n",
       "2              2       HP   Notebook    15.6   \n",
       "3              3    Apple  Ultrabook    15.4   \n",
       "4              4    Apple  Ultrabook    13.3   \n",
       "...          ...      ...        ...     ...   \n",
       "1003        1003       HP   Notebook    14.0   \n",
       "1004        1004  Toshiba   Notebook    13.3   \n",
       "1005        1005       HP   Notebook    14.0   \n",
       "1006        1006       HP   Notebook    14.0   \n",
       "1007        1007       HP  Ultrabook    14.0   \n",
       "\n",
       "                        ScreenResolution                         Cpu   Ram  \\\n",
       "0     IPS Panel Retina Display 2560x1600        Intel Core i5 2.3GHz   8GB   \n",
       "1                               1440x900        Intel Core i5 1.8GHz   8GB   \n",
       "2                      Full HD 1920x1080  Intel Core i5 7200U 2.5GHz   8GB   \n",
       "3     IPS Panel Retina Display 2880x1800        Intel Core i7 2.7GHz  16GB   \n",
       "4     IPS Panel Retina Display 2560x1600        Intel Core i5 3.1GHz   8GB   \n",
       "...                                  ...                         ...   ...   \n",
       "1003                            1366x768  Intel Core i5 7200U 2.5GHz   4GB   \n",
       "1004                   Full HD 1920x1080  Intel Core i5 6200U 2.3GHz   4GB   \n",
       "1005                            1366x768  Intel Core i5 6300U 2.4GHz   4GB   \n",
       "1006                   Full HD 1920x1080  Intel Core i5 7200U 2.5GHz   4GB   \n",
       "1007                   Full HD 1920x1080  Intel Core i7 6600U 2.6GHz   8GB   \n",
       "\n",
       "                   Memory                           Gpu       OpSys  Weight  \\\n",
       "0               128GB SSD  Intel Iris Plus Graphics 640       macOS  1.37kg   \n",
       "1     128GB Flash Storage        Intel HD Graphics 6000       macOS  1.34kg   \n",
       "2               256GB SSD         Intel HD Graphics 620       No OS  1.86kg   \n",
       "3               512GB SSD            AMD Radeon Pro 455       macOS  1.83kg   \n",
       "4               256GB SSD  Intel Iris Plus Graphics 650       macOS  1.37kg   \n",
       "...                   ...                           ...         ...     ...   \n",
       "1003            500GB HDD         Intel HD Graphics 620  Windows 10  1.64kg   \n",
       "1004            128GB SSD         Intel HD Graphics 520  Windows 10   1.2kg   \n",
       "1005            256GB SSD         Intel HD Graphics 520  Windows 10  1.48kg   \n",
       "1006            256GB SSD         Intel HD Graphics 620  Windows 10  1.95kg   \n",
       "1007            256GB SSD         Intel HD Graphics 520   Windows 7  1.43kg   \n",
       "\n",
       "         Price  \n",
       "0     3568.934  \n",
       "1     2394.776  \n",
       "2     1531.800  \n",
       "3     6759.767  \n",
       "4     4804.790  \n",
       "...        ...  \n",
       "1003  2075.256  \n",
       "1004  3183.480  \n",
       "1005  2930.373  \n",
       "1006  3210.120  \n",
       "1007  3860.136  \n",
       "\n",
       "[1008 rows x 12 columns]"
      ]
     },
     "execution_count": 262,
     "metadata": {},
     "output_type": "execute_result"
    }
   ],
   "source": [
    "df"
   ]
  },
  {
   "cell_type": "code",
   "execution_count": 263,
   "id": "591f394a",
   "metadata": {},
   "outputs": [
    {
     "data": {
      "text/plain": [
       "(1008, 12)"
      ]
     },
     "execution_count": 263,
     "metadata": {},
     "output_type": "execute_result"
    }
   ],
   "source": [
    "df.shape\n"
   ]
  },
  {
   "cell_type": "code",
   "execution_count": 264,
   "id": "c46ba984",
   "metadata": {},
   "outputs": [
    {
     "data": {
      "text/plain": [
       "Index(['Unnamed: 0', 'Company', 'TypeName', 'Inches', 'ScreenResolution',\n",
       "       'Cpu', 'Ram', 'Memory', 'Gpu', 'OpSys', 'Weight', 'Price'],\n",
       "      dtype='object')"
      ]
     },
     "execution_count": 264,
     "metadata": {},
     "output_type": "execute_result"
    }
   ],
   "source": [
    "df.columns\n",
    "\n"
   ]
  },
  {
   "cell_type": "code",
   "execution_count": 265,
   "id": "e31b5b27",
   "metadata": {},
   "outputs": [
    {
     "name": "stdout",
     "output_type": "stream",
     "text": [
      "TypeName  \n",
      "['Ultrabook' 'Notebook' 'Netbook' 'Gaming' '2 in 1 Convertible'\n",
      " 'Workstation']                                                                                                                         \n",
      "OpSys     \n",
      "['macOS' 'No OS' 'Windows 10' 'Mac OS X' 'Linux' 'Android' 'Windows 10 S'\n",
      " 'Chrome OS' 'Windows 7']                                                                                                     \n"
     ]
    }
   ],
   "source": [
    "\n",
    "explorecols=['TypeName','OpSys',]\n",
    "\n",
    "for i in explorecols:\n",
    "    print(\"%-10s\\n%-200s\"%(i,df[i].unique()))"
   ]
  },
  {
   "cell_type": "code",
   "execution_count": 266,
   "id": "f485f954",
   "metadata": {
    "scrolled": true
   },
   "outputs": [
    {
     "data": {
      "text/html": [
       "<div>\n",
       "<style scoped>\n",
       "    .dataframe tbody tr th:only-of-type {\n",
       "        vertical-align: middle;\n",
       "    }\n",
       "\n",
       "    .dataframe tbody tr th {\n",
       "        vertical-align: top;\n",
       "    }\n",
       "\n",
       "    .dataframe thead th {\n",
       "        text-align: right;\n",
       "    }\n",
       "</style>\n",
       "<table border=\"1\" class=\"dataframe\">\n",
       "  <thead>\n",
       "    <tr style=\"text-align: right;\">\n",
       "      <th></th>\n",
       "      <th>TypeName</th>\n",
       "      <th>Inches</th>\n",
       "      <th>ScreenResolution</th>\n",
       "      <th>Cpu</th>\n",
       "      <th>Ram</th>\n",
       "      <th>Memory</th>\n",
       "      <th>Gpu</th>\n",
       "      <th>OpSys</th>\n",
       "      <th>Weight</th>\n",
       "      <th>Price</th>\n",
       "    </tr>\n",
       "  </thead>\n",
       "  <tbody>\n",
       "    <tr>\n",
       "      <th>0</th>\n",
       "      <td>Ultrabook</td>\n",
       "      <td>13.3</td>\n",
       "      <td>IPS Panel Retina Display 2560x1600</td>\n",
       "      <td>Intel Core i5 2.3GHz</td>\n",
       "      <td>8GB</td>\n",
       "      <td>128GB SSD</td>\n",
       "      <td>Intel Iris Plus Graphics 640</td>\n",
       "      <td>macOS</td>\n",
       "      <td>1.37kg</td>\n",
       "      <td>3568.934</td>\n",
       "    </tr>\n",
       "    <tr>\n",
       "      <th>1</th>\n",
       "      <td>Ultrabook</td>\n",
       "      <td>13.3</td>\n",
       "      <td>1440x900</td>\n",
       "      <td>Intel Core i5 1.8GHz</td>\n",
       "      <td>8GB</td>\n",
       "      <td>128GB Flash Storage</td>\n",
       "      <td>Intel HD Graphics 6000</td>\n",
       "      <td>macOS</td>\n",
       "      <td>1.34kg</td>\n",
       "      <td>2394.776</td>\n",
       "    </tr>\n",
       "    <tr>\n",
       "      <th>2</th>\n",
       "      <td>Notebook</td>\n",
       "      <td>15.6</td>\n",
       "      <td>Full HD 1920x1080</td>\n",
       "      <td>Intel Core i5 7200U 2.5GHz</td>\n",
       "      <td>8GB</td>\n",
       "      <td>256GB SSD</td>\n",
       "      <td>Intel HD Graphics 620</td>\n",
       "      <td>No OS</td>\n",
       "      <td>1.86kg</td>\n",
       "      <td>1531.800</td>\n",
       "    </tr>\n",
       "    <tr>\n",
       "      <th>3</th>\n",
       "      <td>Ultrabook</td>\n",
       "      <td>15.4</td>\n",
       "      <td>IPS Panel Retina Display 2880x1800</td>\n",
       "      <td>Intel Core i7 2.7GHz</td>\n",
       "      <td>16GB</td>\n",
       "      <td>512GB SSD</td>\n",
       "      <td>AMD Radeon Pro 455</td>\n",
       "      <td>macOS</td>\n",
       "      <td>1.83kg</td>\n",
       "      <td>6759.767</td>\n",
       "    </tr>\n",
       "    <tr>\n",
       "      <th>4</th>\n",
       "      <td>Ultrabook</td>\n",
       "      <td>13.3</td>\n",
       "      <td>IPS Panel Retina Display 2560x1600</td>\n",
       "      <td>Intel Core i5 3.1GHz</td>\n",
       "      <td>8GB</td>\n",
       "      <td>256GB SSD</td>\n",
       "      <td>Intel Iris Plus Graphics 650</td>\n",
       "      <td>macOS</td>\n",
       "      <td>1.37kg</td>\n",
       "      <td>4804.790</td>\n",
       "    </tr>\n",
       "    <tr>\n",
       "      <th>5</th>\n",
       "      <td>Notebook</td>\n",
       "      <td>15.6</td>\n",
       "      <td>1366x768</td>\n",
       "      <td>AMD A9-Series 9420 3GHz</td>\n",
       "      <td>4GB</td>\n",
       "      <td>500GB HDD</td>\n",
       "      <td>AMD Radeon R5</td>\n",
       "      <td>Windows 10</td>\n",
       "      <td>2.1kg</td>\n",
       "      <td>1065.600</td>\n",
       "    </tr>\n",
       "    <tr>\n",
       "      <th>6</th>\n",
       "      <td>Ultrabook</td>\n",
       "      <td>15.4</td>\n",
       "      <td>IPS Panel Retina Display 2880x1800</td>\n",
       "      <td>Intel Core i7 2.2GHz</td>\n",
       "      <td>16GB</td>\n",
       "      <td>256GB Flash Storage</td>\n",
       "      <td>Intel Iris Pro Graphics</td>\n",
       "      <td>Mac OS X</td>\n",
       "      <td>2.04kg</td>\n",
       "      <td>5700.880</td>\n",
       "    </tr>\n",
       "    <tr>\n",
       "      <th>7</th>\n",
       "      <td>Ultrabook</td>\n",
       "      <td>13.3</td>\n",
       "      <td>1440x900</td>\n",
       "      <td>Intel Core i5 1.8GHz</td>\n",
       "      <td>8GB</td>\n",
       "      <td>256GB Flash Storage</td>\n",
       "      <td>Intel HD Graphics 6000</td>\n",
       "      <td>macOS</td>\n",
       "      <td>1.34kg</td>\n",
       "      <td>3086.777</td>\n",
       "    </tr>\n",
       "    <tr>\n",
       "      <th>8</th>\n",
       "      <td>Ultrabook</td>\n",
       "      <td>14.0</td>\n",
       "      <td>Full HD 1920x1080</td>\n",
       "      <td>Intel Core i7 8550U 1.8GHz</td>\n",
       "      <td>16GB</td>\n",
       "      <td>512GB SSD</td>\n",
       "      <td>Nvidia GeForce MX150</td>\n",
       "      <td>Windows 10</td>\n",
       "      <td>1.3kg</td>\n",
       "      <td>3982.680</td>\n",
       "    </tr>\n",
       "    <tr>\n",
       "      <th>9</th>\n",
       "      <td>Ultrabook</td>\n",
       "      <td>14.0</td>\n",
       "      <td>IPS Panel Full HD 1920x1080</td>\n",
       "      <td>Intel Core i5 8250U 1.6GHz</td>\n",
       "      <td>8GB</td>\n",
       "      <td>256GB SSD</td>\n",
       "      <td>Intel UHD Graphics 620</td>\n",
       "      <td>Windows 10</td>\n",
       "      <td>1.6kg</td>\n",
       "      <td>2051.280</td>\n",
       "    </tr>\n",
       "  </tbody>\n",
       "</table>\n",
       "</div>"
      ],
      "text/plain": [
       "    TypeName  Inches                    ScreenResolution  \\\n",
       "0  Ultrabook    13.3  IPS Panel Retina Display 2560x1600   \n",
       "1  Ultrabook    13.3                            1440x900   \n",
       "2   Notebook    15.6                   Full HD 1920x1080   \n",
       "3  Ultrabook    15.4  IPS Panel Retina Display 2880x1800   \n",
       "4  Ultrabook    13.3  IPS Panel Retina Display 2560x1600   \n",
       "5   Notebook    15.6                            1366x768   \n",
       "6  Ultrabook    15.4  IPS Panel Retina Display 2880x1800   \n",
       "7  Ultrabook    13.3                            1440x900   \n",
       "8  Ultrabook    14.0                   Full HD 1920x1080   \n",
       "9  Ultrabook    14.0         IPS Panel Full HD 1920x1080   \n",
       "\n",
       "                          Cpu   Ram               Memory  \\\n",
       "0        Intel Core i5 2.3GHz   8GB            128GB SSD   \n",
       "1        Intel Core i5 1.8GHz   8GB  128GB Flash Storage   \n",
       "2  Intel Core i5 7200U 2.5GHz   8GB            256GB SSD   \n",
       "3        Intel Core i7 2.7GHz  16GB            512GB SSD   \n",
       "4        Intel Core i5 3.1GHz   8GB            256GB SSD   \n",
       "5     AMD A9-Series 9420 3GHz   4GB            500GB HDD   \n",
       "6        Intel Core i7 2.2GHz  16GB  256GB Flash Storage   \n",
       "7        Intel Core i5 1.8GHz   8GB  256GB Flash Storage   \n",
       "8  Intel Core i7 8550U 1.8GHz  16GB            512GB SSD   \n",
       "9  Intel Core i5 8250U 1.6GHz   8GB            256GB SSD   \n",
       "\n",
       "                            Gpu       OpSys  Weight     Price  \n",
       "0  Intel Iris Plus Graphics 640       macOS  1.37kg  3568.934  \n",
       "1        Intel HD Graphics 6000       macOS  1.34kg  2394.776  \n",
       "2         Intel HD Graphics 620       No OS  1.86kg  1531.800  \n",
       "3            AMD Radeon Pro 455       macOS  1.83kg  6759.767  \n",
       "4  Intel Iris Plus Graphics 650       macOS  1.37kg  4804.790  \n",
       "5                 AMD Radeon R5  Windows 10   2.1kg  1065.600  \n",
       "6       Intel Iris Pro Graphics    Mac OS X  2.04kg  5700.880  \n",
       "7        Intel HD Graphics 6000       macOS  1.34kg  3086.777  \n",
       "8          Nvidia GeForce MX150  Windows 10   1.3kg  3982.680  \n",
       "9        Intel UHD Graphics 620  Windows 10   1.6kg  2051.280  "
      ]
     },
     "execution_count": 266,
     "metadata": {},
     "output_type": "execute_result"
    }
   ],
   "source": [
    "df=df.drop(columns=['Unnamed: 0','Company'])\n",
    "df.head(10)\n"
   ]
  },
  {
   "cell_type": "code",
   "execution_count": null,
   "id": "0abb13dc",
   "metadata": {},
   "outputs": [],
   "source": [
    "\n",
    "\n",
    "\n",
    "\n"
   ]
  },
  {
   "cell_type": "code",
   "execution_count": 255,
   "id": "130ef338",
   "metadata": {},
   "outputs": [
    {
     "data": {
      "text/plain": [
       "TypeName            0\n",
       "Inches              0\n",
       "ScreenResolution    0\n",
       "Cpu                 0\n",
       "Ram                 0\n",
       "Memory              0\n",
       "Gpu                 0\n",
       "OpSys               0\n",
       "Weight              0\n",
       "Price               0\n",
       "dtype: int64"
      ]
     },
     "execution_count": 255,
     "metadata": {},
     "output_type": "execute_result"
    }
   ],
   "source": [
    "df.isnull().sum() #no missing values\n"
   ]
  },
  {
   "cell_type": "code",
   "execution_count": 256,
   "id": "de5b1e7e",
   "metadata": {},
   "outputs": [
    {
     "data": {
      "text/plain": [
       "TypeName             object\n",
       "Inches              float64\n",
       "ScreenResolution     object\n",
       "Cpu                  object\n",
       "Ram                  object\n",
       "Memory               object\n",
       "Gpu                  object\n",
       "OpSys                object\n",
       "Weight               object\n",
       "Price               float64\n",
       "dtype: object"
      ]
     },
     "execution_count": 256,
     "metadata": {},
     "output_type": "execute_result"
    }
   ],
   "source": [
    "df.dtypes\n"
   ]
  },
  {
   "cell_type": "code",
   "execution_count": 269,
   "id": "a7b36f6f",
   "metadata": {
    "scrolled": false
   },
   "outputs": [
    {
     "data": {
      "text/html": [
       "<div>\n",
       "<style scoped>\n",
       "    .dataframe tbody tr th:only-of-type {\n",
       "        vertical-align: middle;\n",
       "    }\n",
       "\n",
       "    .dataframe tbody tr th {\n",
       "        vertical-align: top;\n",
       "    }\n",
       "\n",
       "    .dataframe thead th {\n",
       "        text-align: right;\n",
       "    }\n",
       "</style>\n",
       "<table border=\"1\" class=\"dataframe\">\n",
       "  <thead>\n",
       "    <tr style=\"text-align: right;\">\n",
       "      <th></th>\n",
       "      <th>TypeName</th>\n",
       "      <th>Inches</th>\n",
       "      <th>ScreenResolution</th>\n",
       "      <th>Cpu</th>\n",
       "      <th>Ram</th>\n",
       "      <th>Memory</th>\n",
       "      <th>Gpu</th>\n",
       "      <th>OpSys</th>\n",
       "      <th>Weight</th>\n",
       "      <th>Price</th>\n",
       "    </tr>\n",
       "  </thead>\n",
       "  <tbody>\n",
       "    <tr>\n",
       "      <th>0</th>\n",
       "      <td>Ultrabook</td>\n",
       "      <td>13.3</td>\n",
       "      <td>IPS Panel Retina Display 2560x1600</td>\n",
       "      <td>Intel Core i5 2.3GHz</td>\n",
       "      <td>8</td>\n",
       "      <td>128GB SSD</td>\n",
       "      <td>Intel Iris Plus Graphics 640</td>\n",
       "      <td>macOS</td>\n",
       "      <td>1.37</td>\n",
       "      <td>3568.934</td>\n",
       "    </tr>\n",
       "    <tr>\n",
       "      <th>1</th>\n",
       "      <td>Ultrabook</td>\n",
       "      <td>13.3</td>\n",
       "      <td>1440x900</td>\n",
       "      <td>Intel Core i5 1.8GHz</td>\n",
       "      <td>8</td>\n",
       "      <td>128GB Flash Storage</td>\n",
       "      <td>Intel HD Graphics 6000</td>\n",
       "      <td>macOS</td>\n",
       "      <td>1.34</td>\n",
       "      <td>2394.776</td>\n",
       "    </tr>\n",
       "    <tr>\n",
       "      <th>2</th>\n",
       "      <td>Notebook</td>\n",
       "      <td>15.6</td>\n",
       "      <td>Full HD 1920x1080</td>\n",
       "      <td>Intel Core i5 7200U 2.5GHz</td>\n",
       "      <td>8</td>\n",
       "      <td>256GB SSD</td>\n",
       "      <td>Intel HD Graphics 620</td>\n",
       "      <td>No OS</td>\n",
       "      <td>1.86</td>\n",
       "      <td>1531.800</td>\n",
       "    </tr>\n",
       "    <tr>\n",
       "      <th>3</th>\n",
       "      <td>Ultrabook</td>\n",
       "      <td>15.4</td>\n",
       "      <td>IPS Panel Retina Display 2880x1800</td>\n",
       "      <td>Intel Core i7 2.7GHz</td>\n",
       "      <td>16</td>\n",
       "      <td>512GB SSD</td>\n",
       "      <td>AMD Radeon Pro 455</td>\n",
       "      <td>macOS</td>\n",
       "      <td>1.83</td>\n",
       "      <td>6759.767</td>\n",
       "    </tr>\n",
       "    <tr>\n",
       "      <th>4</th>\n",
       "      <td>Ultrabook</td>\n",
       "      <td>13.3</td>\n",
       "      <td>IPS Panel Retina Display 2560x1600</td>\n",
       "      <td>Intel Core i5 3.1GHz</td>\n",
       "      <td>8</td>\n",
       "      <td>256GB SSD</td>\n",
       "      <td>Intel Iris Plus Graphics 650</td>\n",
       "      <td>macOS</td>\n",
       "      <td>1.37</td>\n",
       "      <td>4804.790</td>\n",
       "    </tr>\n",
       "    <tr>\n",
       "      <th>5</th>\n",
       "      <td>Notebook</td>\n",
       "      <td>15.6</td>\n",
       "      <td>1366x768</td>\n",
       "      <td>AMD A9-Series 9420 3GHz</td>\n",
       "      <td>4</td>\n",
       "      <td>500GB HDD</td>\n",
       "      <td>AMD Radeon R5</td>\n",
       "      <td>Windows 10</td>\n",
       "      <td>2.1</td>\n",
       "      <td>1065.600</td>\n",
       "    </tr>\n",
       "  </tbody>\n",
       "</table>\n",
       "</div>"
      ],
      "text/plain": [
       "    TypeName  Inches                    ScreenResolution  \\\n",
       "0  Ultrabook    13.3  IPS Panel Retina Display 2560x1600   \n",
       "1  Ultrabook    13.3                            1440x900   \n",
       "2   Notebook    15.6                   Full HD 1920x1080   \n",
       "3  Ultrabook    15.4  IPS Panel Retina Display 2880x1800   \n",
       "4  Ultrabook    13.3  IPS Panel Retina Display 2560x1600   \n",
       "5   Notebook    15.6                            1366x768   \n",
       "\n",
       "                          Cpu Ram               Memory  \\\n",
       "0        Intel Core i5 2.3GHz   8            128GB SSD   \n",
       "1        Intel Core i5 1.8GHz   8  128GB Flash Storage   \n",
       "2  Intel Core i5 7200U 2.5GHz   8            256GB SSD   \n",
       "3        Intel Core i7 2.7GHz  16            512GB SSD   \n",
       "4        Intel Core i5 3.1GHz   8            256GB SSD   \n",
       "5     AMD A9-Series 9420 3GHz   4            500GB HDD   \n",
       "\n",
       "                            Gpu       OpSys Weight     Price  \n",
       "0  Intel Iris Plus Graphics 640       macOS   1.37  3568.934  \n",
       "1        Intel HD Graphics 6000       macOS   1.34  2394.776  \n",
       "2         Intel HD Graphics 620       No OS   1.86  1531.800  \n",
       "3            AMD Radeon Pro 455       macOS   1.83  6759.767  \n",
       "4  Intel Iris Plus Graphics 650       macOS   1.37  4804.790  \n",
       "5                 AMD Radeon R5  Windows 10    2.1  1065.600  "
      ]
     },
     "execution_count": 269,
     "metadata": {},
     "output_type": "execute_result"
    }
   ],
   "source": [
    "df['Ram']=df['Ram'].str.extract('(\\d\\d?)',expand=True)\n",
    "df['Weight']=df['Weight'].str.extract('(\\d\\.\\d\\d?|\\d)',expand=True)\n",
    "df.head(6)"
   ]
  },
  {
   "cell_type": "code",
   "execution_count": 271,
   "id": "2eaeba0f",
   "metadata": {},
   "outputs": [
    {
     "data": {
      "text/plain": [
       "Ram\n",
       "12    3155.745318\n",
       "16    5215.385737\n",
       "2      669.023640\n",
       "24    5877.672000\n",
       "32    9121.280375\n",
       "4     1471.857087\n",
       "6     1656.794923\n",
       "8     3084.840131\n",
       "Name: Price, dtype: float64"
      ]
     },
     "execution_count": 271,
     "metadata": {},
     "output_type": "execute_result"
    }
   ],
   "source": [
    "df.groupby('Ram')['Price'].mean()\n"
   ]
  },
  {
   "cell_type": "code",
   "execution_count": 259,
   "id": "7aff8309",
   "metadata": {},
   "outputs": [],
   "source": [
    "import matplotlib.pyplot as plt\n",
    "import seaborn as sns\n"
   ]
  },
  {
   "cell_type": "code",
   "execution_count": 260,
   "id": "25d003d3",
   "metadata": {},
   "outputs": [
    {
     "ename": "SyntaxError",
     "evalue": "EOL while scanning string literal (<ipython-input-260-c8d17d3515a4>, line 4)",
     "output_type": "error",
     "traceback": [
      "\u001b[0;36m  File \u001b[0;32m\"<ipython-input-260-c8d17d3515a4>\"\u001b[0;36m, line \u001b[0;32m4\u001b[0m\n\u001b[0;31m    plt.xlabel('sns.countplot(x=\"Disk Drive\", hue=\"Processor Type\", data=df)\u001b[0m\n\u001b[0m                                                                            ^\u001b[0m\n\u001b[0;31mSyntaxError\u001b[0m\u001b[0;31m:\u001b[0m EOL while scanning string literal\n"
     ]
    }
   ],
   "source": [
    " plt.figure(figsize=[14,6])\n",
    "sns.countplot(x='OpSys',data=df)\n",
    "\n",
    "plt.xlabel('sns.countplot(x=\"Disk Drive\", hue=\"Processor Type\", data=df)\n",
    "OpSys') \n",
    "plt.ylabel('Number of laptops') \n",
    "\n",
    "plt.show()"
   ]
  },
  {
   "cell_type": "code",
   "execution_count": null,
   "id": "f3cb57af",
   "metadata": {
    "scrolled": true
   },
   "outputs": [],
   "source": [
    " plt.figure(figsize=[14,5])\n",
    "\n",
    "df['OpSys'].value_counts().plot(kind='bar')"
   ]
  },
  {
   "cell_type": "code",
   "execution_count": null,
   "id": "c6af7690",
   "metadata": {},
   "outputs": [],
   "source": [
    "df['Price'].isnull().sum()\n"
   ]
  },
  {
   "cell_type": "code",
   "execution_count": null,
   "id": "3bb783f0",
   "metadata": {},
   "outputs": [],
   "source": [
    "plt.figure(figsize=[14,6])\n",
    "\n",
    "sns.barplot(\"OpSys\", y=\"Price\", data=df,\n",
    "                 palette=\"Blues_d\")"
   ]
  },
  {
   "cell_type": "code",
   "execution_count": null,
   "id": "b44607f1",
   "metadata": {},
   "outputs": [],
   "source": [
    "df.to_csv('tempj1.csv',encoding='utf-8',index=False)"
   ]
  },
  {
   "cell_type": "markdown",
   "id": "6fac462e",
   "metadata": {},
   "source": [
    "## Feature engineering¶\n",
    "\n",
    "\n"
   ]
  },
  {
   "cell_type": "markdown",
   "id": "9e53eeb0",
   "metadata": {},
   "source": [
    "\n",
    "Extra feature \"Touchscreen\" was extracted (from the screenResolution column) and added to the dataset\n",
    "\n"
   ]
  },
  {
   "cell_type": "code",
   "execution_count": null,
   "id": "95b94b27",
   "metadata": {},
   "outputs": [],
   "source": [
    "df['TouchScreen']=\"No\"\n",
    "df"
   ]
  },
  {
   "cell_type": "code",
   "execution_count": null,
   "id": "a40fcb14",
   "metadata": {},
   "outputs": [],
   "source": [
    "df.loc[df['ScreenResolution'].str.contains('Touchscreen'),'TouchScreen']=\"Yes\""
   ]
  },
  {
   "cell_type": "code",
   "execution_count": null,
   "id": "aef23310",
   "metadata": {},
   "outputs": [],
   "source": [
    "df.tail(10)"
   ]
  },
  {
   "cell_type": "markdown",
   "id": "3ea63bf5",
   "metadata": {},
   "source": [
    "Laptops with touchscreen enabled displays are more costly than those without touchscreen capabilities"
   ]
  },
  {
   "cell_type": "code",
   "execution_count": null,
   "id": "0d684542",
   "metadata": {},
   "outputs": [],
   "source": [
    "df['ScreenResolution']=df['ScreenResolution'].str.extract('(\\d\\d\\d\\d?x\\d\\d\\d\\d?)',expand=True)\n",
    "df.tail(10)"
   ]
  },
  {
   "cell_type": "code",
   "execution_count": null,
   "id": "e3087840",
   "metadata": {},
   "outputs": [],
   "source": [
    "\n",
    "#Removal of units : GB,Kg\n",
    "\n",
    "df['Ram']=df['Ram'].str.extract('(\\d\\d?)',expand=True)\n",
    "df['Weight']=df['Weight'].str.extract('(\\d\\.\\d\\d?|\\d)',expand=True)\n",
    "df.head(6)"
   ]
  },
  {
   "cell_type": "code",
   "execution_count": null,
   "id": "1e750da7",
   "metadata": {},
   "outputs": [],
   "source": [
    "dummOpSys = pd.get_dummies(df['OpSys'])\n",
    "dummOpSys"
   ]
  },
  {
   "cell_type": "code",
   "execution_count": null,
   "id": "ab925ad5",
   "metadata": {},
   "outputs": [],
   "source": [
    "\n",
    "dummTypeName = pd.get_dummies(df['TypeName'])\n",
    "dummTypeName"
   ]
  },
  {
   "cell_type": "code",
   "execution_count": null,
   "id": "30a764a8",
   "metadata": {},
   "outputs": [],
   "source": [
    "\n",
    "df.drop(columns=['TypeName','OpSys'],inplace=True)\n",
    "OH_df = pd.concat([df,dummTypeName,dummOpSys], axis=1)\n",
    "\n",
    "OH_df.head()"
   ]
  },
  {
   "cell_type": "code",
   "execution_count": null,
   "id": "27627d4c",
   "metadata": {
    "scrolled": true
   },
   "outputs": [],
   "source": [
    "OH_df['LaptopPrice']=OH_df['Price']\n",
    "\n",
    "OH_df.drop(columns=['Price'],inplace = True)\n",
    "OH_df"
   ]
  },
  {
   "cell_type": "markdown",
   "id": "c0978e29",
   "metadata": {},
   "source": [
    "Saving processed data to csv¶\n"
   ]
  },
  {
   "cell_type": "code",
   "execution_count": null,
   "id": "af7d2250",
   "metadata": {},
   "outputs": [],
   "source": [
    "OH_df.to_csv('final_df.csv',index=False)\n"
   ]
  },
  {
   "cell_type": "code",
   "execution_count": null,
   "id": "ebad635e",
   "metadata": {},
   "outputs": [],
   "source": []
  }
 ],
 "metadata": {
  "kernelspec": {
   "display_name": "Python 3",
   "language": "python",
   "name": "python3"
  },
  "language_info": {
   "codemirror_mode": {
    "name": "ipython",
    "version": 3
   },
   "file_extension": ".py",
   "mimetype": "text/x-python",
   "name": "python",
   "nbconvert_exporter": "python",
   "pygments_lexer": "ipython3",
   "version": "3.8.8"
  }
 },
 "nbformat": 4,
 "nbformat_minor": 5
}
